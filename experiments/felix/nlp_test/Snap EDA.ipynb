{
 "cells": [
  {
   "cell_type": "markdown",
   "id": "dd2b4f9d",
   "metadata": {},
   "source": [
    "# Snap EDA\n",
    "\n",
    "Goals:\n",
    "* EDA on chosen snap dataset\n",
    "* Look at Gourmet_Foods.txt.gz\n",
    "* Use 5-core for smaller dataset\n",
    "\n",
    "EDA Questions:\n",
    "* How many reviews?\n",
    "* Which columns are interesting?\n",
    "    * likely 'reviewTest\n",
    "* What is the distribution of sizes of reviewTest?"
   ]
  },
  {
   "cell_type": "code",
   "execution_count": 1,
   "id": "e7f44e34",
   "metadata": {},
   "outputs": [],
   "source": [
    "import pandas as pd\n",
    "import gzip\n",
    "import json"
   ]
  },
  {
   "cell_type": "code",
   "execution_count": 2,
   "id": "64122bbb",
   "metadata": {},
   "outputs": [],
   "source": [
    "# Read in grocery and gourmet food data\n",
    "\n",
    "def parse(path):\n",
    "    g = gzip.open(path, 'rb')\n",
    "    for l in g:\n",
    "        yield json.loads(l)\n",
    "\n",
    "def getDF(path):\n",
    "    i = 0\n",
    "    df = {}\n",
    "    for d in parse(path):\n",
    "        df[i] = d\n",
    "        i += 1\n",
    "    return pd.DataFrame.from_dict(df, orient='index')\n"
   ]
  },
  {
   "cell_type": "code",
   "execution_count": 3,
   "id": "51c38210",
   "metadata": {},
   "outputs": [],
   "source": [
    "df = getDF('Grocery_and_Gourmet_Food_5.json.gz')"
   ]
  },
  {
   "cell_type": "code",
   "execution_count": 4,
   "id": "3ad35633",
   "metadata": {},
   "outputs": [
    {
     "data": {
      "text/html": [
       "<div>\n",
       "<style scoped>\n",
       "    .dataframe tbody tr th:only-of-type {\n",
       "        vertical-align: middle;\n",
       "    }\n",
       "\n",
       "    .dataframe tbody tr th {\n",
       "        vertical-align: top;\n",
       "    }\n",
       "\n",
       "    .dataframe thead th {\n",
       "        text-align: right;\n",
       "    }\n",
       "</style>\n",
       "<table border=\"1\" class=\"dataframe\">\n",
       "  <thead>\n",
       "    <tr style=\"text-align: right;\">\n",
       "      <th></th>\n",
       "      <th>overall</th>\n",
       "      <th>verified</th>\n",
       "      <th>reviewTime</th>\n",
       "      <th>reviewerID</th>\n",
       "      <th>asin</th>\n",
       "      <th>reviewerName</th>\n",
       "      <th>reviewText</th>\n",
       "      <th>summary</th>\n",
       "      <th>unixReviewTime</th>\n",
       "      <th>vote</th>\n",
       "      <th>style</th>\n",
       "      <th>image</th>\n",
       "    </tr>\n",
       "  </thead>\n",
       "  <tbody>\n",
       "    <tr>\n",
       "      <th>0</th>\n",
       "      <td>5.0</td>\n",
       "      <td>True</td>\n",
       "      <td>11 19, 2014</td>\n",
       "      <td>A1QVBUH9E1V6I8</td>\n",
       "      <td>4639725183</td>\n",
       "      <td>Jamshed Mathur</td>\n",
       "      <td>No adverse comment.</td>\n",
       "      <td>Five Stars</td>\n",
       "      <td>1416355200</td>\n",
       "      <td>NaN</td>\n",
       "      <td>NaN</td>\n",
       "      <td>NaN</td>\n",
       "    </tr>\n",
       "    <tr>\n",
       "      <th>1</th>\n",
       "      <td>5.0</td>\n",
       "      <td>True</td>\n",
       "      <td>10 13, 2016</td>\n",
       "      <td>A3GEOILWLK86XM</td>\n",
       "      <td>4639725183</td>\n",
       "      <td>itsjustme</td>\n",
       "      <td>Gift for college student.</td>\n",
       "      <td>Great product.</td>\n",
       "      <td>1476316800</td>\n",
       "      <td>NaN</td>\n",
       "      <td>NaN</td>\n",
       "      <td>NaN</td>\n",
       "    </tr>\n",
       "    <tr>\n",
       "      <th>2</th>\n",
       "      <td>5.0</td>\n",
       "      <td>True</td>\n",
       "      <td>11 21, 2015</td>\n",
       "      <td>A32RD6L701BIGP</td>\n",
       "      <td>4639725183</td>\n",
       "      <td>Krystal Clifton</td>\n",
       "      <td>If you like strong tea, this is for you. It mi...</td>\n",
       "      <td>Strong</td>\n",
       "      <td>1448064000</td>\n",
       "      <td>NaN</td>\n",
       "      <td>NaN</td>\n",
       "      <td>NaN</td>\n",
       "    </tr>\n",
       "    <tr>\n",
       "      <th>3</th>\n",
       "      <td>5.0</td>\n",
       "      <td>True</td>\n",
       "      <td>08 12, 2015</td>\n",
       "      <td>A2UY1O1FBGKIE6</td>\n",
       "      <td>4639725183</td>\n",
       "      <td>U. Kane</td>\n",
       "      <td>Love the tea. The flavor is way better than th...</td>\n",
       "      <td>Great tea</td>\n",
       "      <td>1439337600</td>\n",
       "      <td>NaN</td>\n",
       "      <td>NaN</td>\n",
       "      <td>NaN</td>\n",
       "    </tr>\n",
       "    <tr>\n",
       "      <th>4</th>\n",
       "      <td>5.0</td>\n",
       "      <td>True</td>\n",
       "      <td>05 28, 2015</td>\n",
       "      <td>A3QHVBQYDV7Z6U</td>\n",
       "      <td>4639725183</td>\n",
       "      <td>The Nana</td>\n",
       "      <td>I have searched everywhere until I browsed Ama...</td>\n",
       "      <td>This is the tea I remembered!</td>\n",
       "      <td>1432771200</td>\n",
       "      <td>NaN</td>\n",
       "      <td>NaN</td>\n",
       "      <td>NaN</td>\n",
       "    </tr>\n",
       "    <tr>\n",
       "      <th>...</th>\n",
       "      <td>...</td>\n",
       "      <td>...</td>\n",
       "      <td>...</td>\n",
       "      <td>...</td>\n",
       "      <td>...</td>\n",
       "      <td>...</td>\n",
       "      <td>...</td>\n",
       "      <td>...</td>\n",
       "      <td>...</td>\n",
       "      <td>...</td>\n",
       "      <td>...</td>\n",
       "      <td>...</td>\n",
       "    </tr>\n",
       "    <tr>\n",
       "      <th>95</th>\n",
       "      <td>5.0</td>\n",
       "      <td>True</td>\n",
       "      <td>02 15, 2016</td>\n",
       "      <td>AKG3JBET7O0RZ</td>\n",
       "      <td>9742356831</td>\n",
       "      <td>Ancu</td>\n",
       "      <td>We love it! Awesome, strong, curry flavor. Bes...</td>\n",
       "      <td>Five Stars</td>\n",
       "      <td>1455494400</td>\n",
       "      <td>NaN</td>\n",
       "      <td>NaN</td>\n",
       "      <td>NaN</td>\n",
       "    </tr>\n",
       "    <tr>\n",
       "      <th>96</th>\n",
       "      <td>5.0</td>\n",
       "      <td>True</td>\n",
       "      <td>01 22, 2016</td>\n",
       "      <td>A30YO8R7OCLGOO</td>\n",
       "      <td>9742356831</td>\n",
       "      <td>Chris C.</td>\n",
       "      <td>Great tasting curry with many possible uses.</td>\n",
       "      <td>Five Stars</td>\n",
       "      <td>1453420800</td>\n",
       "      <td>NaN</td>\n",
       "      <td>NaN</td>\n",
       "      <td>NaN</td>\n",
       "    </tr>\n",
       "    <tr>\n",
       "      <th>97</th>\n",
       "      <td>5.0</td>\n",
       "      <td>True</td>\n",
       "      <td>10 31, 2015</td>\n",
       "      <td>A102D7NPKXXS5F</td>\n",
       "      <td>9742356831</td>\n",
       "      <td>Lynn</td>\n",
       "      <td>This stuff is HOT.  But it has serious flavor,...</td>\n",
       "      <td>Hot but with real flavor</td>\n",
       "      <td>1446249600</td>\n",
       "      <td>NaN</td>\n",
       "      <td>NaN</td>\n",
       "      <td>NaN</td>\n",
       "    </tr>\n",
       "    <tr>\n",
       "      <th>98</th>\n",
       "      <td>5.0</td>\n",
       "      <td>True</td>\n",
       "      <td>09 4, 2015</td>\n",
       "      <td>ACHULEYKFIZRB</td>\n",
       "      <td>9742356831</td>\n",
       "      <td>Ann Marie</td>\n",
       "      <td>a great product</td>\n",
       "      <td>Five Stars</td>\n",
       "      <td>1441324800</td>\n",
       "      <td>NaN</td>\n",
       "      <td>NaN</td>\n",
       "      <td>NaN</td>\n",
       "    </tr>\n",
       "    <tr>\n",
       "      <th>99</th>\n",
       "      <td>4.0</td>\n",
       "      <td>True</td>\n",
       "      <td>07 4, 2015</td>\n",
       "      <td>AWUTC5XCTT4VF</td>\n",
       "      <td>9742356831</td>\n",
       "      <td>V. A. Tipnis</td>\n",
       "      <td>This tastes just like in Thai restaurants</td>\n",
       "      <td>Four Stars</td>\n",
       "      <td>1435968000</td>\n",
       "      <td>NaN</td>\n",
       "      <td>NaN</td>\n",
       "      <td>NaN</td>\n",
       "    </tr>\n",
       "  </tbody>\n",
       "</table>\n",
       "<p>100 rows × 12 columns</p>\n",
       "</div>"
      ],
      "text/plain": [
       "    overall  verified   reviewTime      reviewerID        asin  \\\n",
       "0       5.0      True  11 19, 2014  A1QVBUH9E1V6I8  4639725183   \n",
       "1       5.0      True  10 13, 2016  A3GEOILWLK86XM  4639725183   \n",
       "2       5.0      True  11 21, 2015  A32RD6L701BIGP  4639725183   \n",
       "3       5.0      True  08 12, 2015  A2UY1O1FBGKIE6  4639725183   \n",
       "4       5.0      True  05 28, 2015  A3QHVBQYDV7Z6U  4639725183   \n",
       "..      ...       ...          ...             ...         ...   \n",
       "95      5.0      True  02 15, 2016   AKG3JBET7O0RZ  9742356831   \n",
       "96      5.0      True  01 22, 2016  A30YO8R7OCLGOO  9742356831   \n",
       "97      5.0      True  10 31, 2015  A102D7NPKXXS5F  9742356831   \n",
       "98      5.0      True   09 4, 2015   ACHULEYKFIZRB  9742356831   \n",
       "99      4.0      True   07 4, 2015   AWUTC5XCTT4VF  9742356831   \n",
       "\n",
       "       reviewerName                                         reviewText  \\\n",
       "0    Jamshed Mathur                                No adverse comment.   \n",
       "1         itsjustme                          Gift for college student.   \n",
       "2   Krystal Clifton  If you like strong tea, this is for you. It mi...   \n",
       "3           U. Kane  Love the tea. The flavor is way better than th...   \n",
       "4          The Nana  I have searched everywhere until I browsed Ama...   \n",
       "..              ...                                                ...   \n",
       "95             Ancu  We love it! Awesome, strong, curry flavor. Bes...   \n",
       "96         Chris C.       Great tasting curry with many possible uses.   \n",
       "97             Lynn  This stuff is HOT.  But it has serious flavor,...   \n",
       "98        Ann Marie                                    a great product   \n",
       "99     V. A. Tipnis          This tastes just like in Thai restaurants   \n",
       "\n",
       "                          summary  unixReviewTime vote style image  \n",
       "0                      Five Stars      1416355200  NaN   NaN   NaN  \n",
       "1                  Great product.      1476316800  NaN   NaN   NaN  \n",
       "2                          Strong      1448064000  NaN   NaN   NaN  \n",
       "3                       Great tea      1439337600  NaN   NaN   NaN  \n",
       "4   This is the tea I remembered!      1432771200  NaN   NaN   NaN  \n",
       "..                            ...             ...  ...   ...   ...  \n",
       "95                     Five Stars      1455494400  NaN   NaN   NaN  \n",
       "96                     Five Stars      1453420800  NaN   NaN   NaN  \n",
       "97       Hot but with real flavor      1446249600  NaN   NaN   NaN  \n",
       "98                     Five Stars      1441324800  NaN   NaN   NaN  \n",
       "99                     Four Stars      1435968000  NaN   NaN   NaN  \n",
       "\n",
       "[100 rows x 12 columns]"
      ]
     },
     "execution_count": 4,
     "metadata": {},
     "output_type": "execute_result"
    }
   ],
   "source": [
    "# Have a look:\n",
    "df.head(5)\n",
    "df.head(100)"
   ]
  },
  {
   "cell_type": "code",
   "execution_count": 5,
   "id": "753e2c4e",
   "metadata": {},
   "outputs": [
    {
     "ename": "SyntaxError",
     "evalue": "EOL while scanning string literal (3565132544.py, line 2)",
     "output_type": "error",
     "traceback": [
      "\u001b[0;36m  File \u001b[0;32m\"/tmp/ipykernel_14042/3565132544.py\"\u001b[0;36m, line \u001b[0;32m2\u001b[0m\n\u001b[0;31m    print(f\"df shape: {df.shape})\u001b[0m\n\u001b[0m                                 ^\u001b[0m\n\u001b[0;31mSyntaxError\u001b[0m\u001b[0;31m:\u001b[0m EOL while scanning string literal\n"
     ]
    }
   ],
   "source": [
    "# How large is df?\n",
    "print(f\"df shape: {df.shape})"
   ]
  },
  {
   "cell_type": "code",
   "execution_count": 6,
   "id": "929c2ebd",
   "metadata": {},
   "outputs": [
    {
     "name": "stdout",
     "output_type": "stream",
     "text": [
      "5.0\n",
      "1.0\n"
     ]
    }
   ],
   "source": [
    "# Look at star ratings:\n",
    "print(df[\"overall\"].max())\n",
    "print(df[\"overall\"].min())"
   ]
  },
  {
   "cell_type": "code",
   "execution_count": 7,
   "id": "9f02d370",
   "metadata": {},
   "outputs": [
    {
     "name": "stdout",
     "output_type": "stream",
     "text": [
      "Review Rating Distribution:\n"
     ]
    },
    {
     "data": {
      "image/png": "[encoded data removed]",
      "text/plain": [
       "<Figure size 432x288 with 1 Axes>"
      ]
     },
     "metadata": {
      "needs_background": "light"
     },
     "output_type": "display_data"
    }
   ],
   "source": [
    "n_bins = 10\n",
    "print(\"Review Rating Distribution:\")\n",
    "hist = df[\"overall\"].hist(bins=n_bins)\n",
    "\n",
    "# Reviews are heavily contrated toward positive, with relatively few negative. Slight spike toward 1*"
   ]
  },
  {
   "cell_type": "code",
   "execution_count": 8,
   "id": "c688b38c",
   "metadata": {},
   "outputs": [
    {
     "name": "stdout",
     "output_type": "stream",
     "text": [
      "12 9, 2017\n",
      "01 1, 2007\n"
     ]
    }
   ],
   "source": [
    "# Range of reviewTime\n",
    "print(df[\"reviewTime\"].max())\n",
    "print(df[\"reviewTime\"].min())"
   ]
  },
  {
   "cell_type": "code",
   "execution_count": 9,
   "id": "d739e295",
   "metadata": {},
   "outputs": [],
   "source": [
    "# Looking at reviewText and summary.\n",
    "# Distribution in number of words\n",
    "# 10 most common words\n",
    "# Total size of corpus"
   ]
  },
  {
   "cell_type": "code",
   "execution_count": 10,
   "id": "9110f96a",
   "metadata": {},
   "outputs": [
    {
     "data": {
      "text/plain": [
       "3"
      ]
     },
     "execution_count": 10,
     "metadata": {},
     "output_type": "execute_result"
    }
   ],
   "source": [
    "df[\"reviewText_len\"] = df.apply(lambda row: len(str(row.reviewText).split()) , axis=1)\n",
    "df[\"reviewText_len\"].iloc[0]\n",
    "# len(df[\"reviewText\"].iloc[0].split())\n",
    "# df['c'] = df.apply(lambda row: row.a + row.b, axis=1)\n"
   ]
  },
  {
   "cell_type": "code",
   "execution_count": 11,
   "id": "24b9cde4",
   "metadata": {},
   "outputs": [
    {
     "name": "stdout",
     "output_type": "stream",
     "text": [
      "Review Text Length (n words) Distribution:\n"
     ]
    },
    {
     "data": {
      "image/png": "[encoded data removed]",
      "text/plain": [
       "<Figure size 432x288 with 1 Axes>"
      ]
     },
     "metadata": {
      "needs_background": "light"
     },
     "output_type": "display_data"
    }
   ],
   "source": [
    "print(\"Review Text Length (n words) Distribution:\")\n",
    "\n",
    "hist = df[\"reviewText_len\"].hist(bins=n_bins, log=True)"
   ]
  },
  {
   "cell_type": "code",
   "execution_count": 13,
   "id": "836ed668",
   "metadata": {},
   "outputs": [
    {
     "data": {
      "text/plain": [
       "2"
      ]
     },
     "execution_count": 13,
     "metadata": {},
     "output_type": "execute_result"
    }
   ],
   "source": [
    "df[\"summary_len\"] = df.apply(lambda row: len(str(row.summary).split()) , axis=1)\n",
    "df[\"summary_len\"].iloc[0]"
   ]
  },
  {
   "cell_type": "code",
   "execution_count": 14,
   "id": "806c5f14",
   "metadata": {},
   "outputs": [
    {
     "name": "stdout",
     "output_type": "stream",
     "text": [
      "Review Summary Length (n words) Distribution:\n"
     ]
    },
    {
     "data": {
      "image/png": "[encoded data removed]",
      "text/plain": [
       "<Figure size 432x288 with 1 Axes>"
      ]
     },
     "metadata": {
      "needs_background": "light"
     },
     "output_type": "display_data"
    }
   ],
   "source": [
    "print(\"Review Summary Length (n words) Distribution:\")\n",
    "\n",
    "hist = df[\"summary_len\"].hist(bins=n_bins, log=True)"
   ]
  },
  {
   "cell_type": "code",
   "execution_count": null,
   "id": "b4014043",
   "metadata": {},
   "outputs": [],
   "source": [
    "# create a corpus from the summary stats"
   ]
  },
  {
   "cell_type": "code",
   "execution_count": null,
   "id": "da52f1c5",
   "metadata": {},
   "outputs": [],
   "source": [
    "# Count number of votes that are NaNs.\n",
    "# check reviewerName repetitions. \n",
    "\n",
    "# Use spacy to remove stop words. \n",
    "# explore spacy. \n",
    "\n",
    "# Possible to use asin to get other useful metadata. In Dan's case - book titles...\n",
    "# Distribution of reviews per asin.\n",
    "\n",
    "# Dan thinks a next great step: \n",
    "# * basis of building a model.\n",
    "# * i.e. try to predict star rating (1-5) based off review text... in class different options for taking in review text and converting it to something we can reason about.\n",
    "# FOr each review, create something that is a 1-hot encoding of that review. i.e. for all words used in corpus."
   ]
  }
 ],
 "metadata": {
  "kernelspec": {
   "display_name": "Environment (conda_amazonei_pytorch_latest_p37)",
   "language": "python",
   "name": "conda_amazonei_pytorch_latest_p37"
  },
  "language_info": {
   "codemirror_mode": {
    "name": "ipython",
    "version": 3
   },
   "file_extension": ".py",
   "mimetype": "text/x-python",
   "name": "python",
   "nbconvert_exporter": "python",
   "pygments_lexer": "ipython3",
   "version": "3.7.12"
  }
 },
 "nbformat": 4,
 "nbformat_minor": 5
}
